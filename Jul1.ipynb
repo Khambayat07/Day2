{
 "cells": [
  {
   "cell_type": "code",
   "execution_count": null,
   "id": "1784bf42-f6fd-498e-8d08-bfaee0cbe213",
   "metadata": {},
   "outputs": [],
   "source": [
    "print(\"Kunal Khamabayt\")"
   ]
  },
  {
   "cell_type": "code",
   "execution_count": 1,
   "id": "136450bd-5cfc-4cc1-a2e3-641f1e7a8c6b",
   "metadata": {},
   "outputs": [
    {
     "name": "stdout",
     "output_type": "stream",
     "text": [
      "4\n",
      "0\n",
      "4\n",
      "1.0\n",
      "0\n",
      "4\n"
     ]
    }
   ],
   "source": [
    "a= 2\n",
    "b = 2\n",
    "print(a+b)\n",
    "print(a-b)\n",
    "print(a*b)\n",
    "print(a/b)\n",
    "print(a%b)\n",
    "print(a**b)"
   ]
  },
  {
   "cell_type": "code",
   "execution_count": 2,
   "id": "96351a97-ddba-491e-a6e0-6c3877d77e44",
   "metadata": {},
   "outputs": [
    {
     "name": "stdout",
     "output_type": "stream",
     "text": [
      "False\n",
      "True\n",
      "False\n",
      "False\n",
      "True\n"
     ]
    }
   ],
   "source": [
    "w= 60\n",
    "x= 30\n",
    "\n",
    "print(w == x)\n",
    "print(w >= x)\n",
    "print(w <= x)\n",
    "print(w < x)\n",
    "print(w > x)"
   ]
  },
  {
   "cell_type": "code",
   "execution_count": 3,
   "id": "cab6d84c-594e-4d36-853d-c83931e3246b",
   "metadata": {},
   "outputs": [
    {
     "name": "stdin",
     "output_type": "stream",
     "text": [
      "Plz enter Your 1st number 2000\n",
      "Plz enter Your 2st number 1000\n"
     ]
    },
    {
     "name": "stdout",
     "output_type": "stream",
     "text": [
      "Value of the two number is : 3000\n"
     ]
    }
   ],
   "source": [
    "k = int(input(\"Plz enter Your 1st number\"))\n",
    "u = int(input(\"Plz enter Your 2st number\"))\n",
    "p = k+u\n",
    "print(\"Value of the two number is :\",p)"
   ]
  },
  {
   "cell_type": "code",
   "execution_count": 6,
   "id": "5c1b99b8-2fee-4f47-b4cb-12a99384f96b",
   "metadata": {},
   "outputs": [
    {
     "name": "stdin",
     "output_type": "stream",
     "text": [
      "Enter your Side of square 10\n"
     ]
    },
    {
     "name": "stdout",
     "output_type": "stream",
     "text": [
      "Your area of the square is: 100\n"
     ]
    }
   ],
   "source": [
    "a = int(input(\"Enter your Side of square\"))\n",
    "s = a*a\n",
    "print(\"Your area of the square is:\",s)"
   ]
  },
  {
   "cell_type": "code",
   "execution_count": 7,
   "id": "697f411e-096c-4917-b464-cda18bff8d84",
   "metadata": {},
   "outputs": [
    {
     "name": "stdin",
     "output_type": "stream",
     "text": [
      "Enter your Floating value here 20\n",
      "Enter your 2nd Floating value here 20\n"
     ]
    },
    {
     "name": "stdout",
     "output_type": "stream",
     "text": [
      "The average of two values is: 20.0\n"
     ]
    }
   ],
   "source": [
    "i =float(input(\"Enter your Floating value here\"))\n",
    "t =float(input(\"Enter your 2nd Floating value here\"))\n",
    "y = (i+t)/2\n",
    "print(\"The average of two values is:\",y)"
   ]
  },
  {
   "cell_type": "code",
   "execution_count": 10,
   "id": "a43c7d5e-bccc-4249-82f8-a8fcd7b8fc17",
   "metadata": {},
   "outputs": [
    {
     "name": "stdin",
     "output_type": "stream",
     "text": [
      "Enter your 1st number 30\n",
      "Enter your 2nd number 50\n"
     ]
    },
    {
     "name": "stdout",
     "output_type": "stream",
     "text": [
      "False\n"
     ]
    }
   ],
   "source": [
    "c =int(input(\"Enter your 1st number\"))\n",
    "d =int(input(\"Enter your 2nd number\"))\n",
    "print(c>=d)"
   ]
  },
  {
   "cell_type": "markdown",
   "id": "a950b5e6-4ae0-4734-99ba-d210f657bcf5",
   "metadata": {},
   "source": [
    "## SLICING"
   ]
  },
  {
   "cell_type": "code",
   "execution_count": 22,
   "id": "6dd1015b-0372-4bbe-93ea-8db9c795aca7",
   "metadata": {},
   "outputs": [
    {
     "data": {
      "text/plain": [
       "'Vishal'"
      ]
     },
     "execution_count": 22,
     "metadata": {},
     "output_type": "execute_result"
    }
   ],
   "source": [
    "raj =\"Sir Vishal \"\n",
    "# raj[4:]\n",
    "# raj[4:11:2]\n",
    "raj[-7:-1]\n",
    "\n",
    "# print(len(raj))"
   ]
  },
  {
   "cell_type": "markdown",
   "id": "ab509cfb-65a6-48ba-9ca8-25665eb015dd",
   "metadata": {},
   "source": [
    "## Strings Function"
   ]
  },
  {
   "cell_type": "code",
   "execution_count": 31,
   "id": "6e031256-fade-4be2-800c-a999492fe3e6",
   "metadata": {},
   "outputs": [
    {
     "name": "stdout",
     "output_type": "stream",
     "text": [
      "True\n",
      "Hello wellcome to python\n",
      "hello Thank to Python\n",
      "15\n",
      "1\n"
     ]
    }
   ],
   "source": [
    "c = \"hello Wellcome to Python\"\n",
    "print(c.endswith(\"on\"))\n",
    "print(c.capitalize())\n",
    "print(c.replace(\"Wellcome\",\"Thank\"))\n",
    "print(c.find(\"to\"))\n",
    "print(c.count(\"We\"))"
   ]
  },
  {
   "cell_type": "code",
   "execution_count": 32,
   "id": "d4914971-f8a1-4128-9dff-96db920277c6",
   "metadata": {},
   "outputs": [
    {
     "name": "stdin",
     "output_type": "stream",
     "text": [
      "Enter your frist Name: Kunal\n"
     ]
    },
    {
     "name": "stdout",
     "output_type": "stream",
     "text": [
      "5\n"
     ]
    }
   ],
   "source": [
    "user =input(\"Enter your frist Name:\")\n",
    "print(len(user))"
   ]
  },
  {
   "cell_type": "code",
   "execution_count": 34,
   "id": "a7be8496-352b-4f4f-afa2-f6635c89a9c3",
   "metadata": {},
   "outputs": [
    {
     "name": "stdout",
     "output_type": "stream",
     "text": [
      "6\n"
     ]
    }
   ],
   "source": [
    "Doll =\"Hello $ well$come boss$ i$ BO$$\"\n",
    "print(Doll.count(\"$\"))"
   ]
  },
  {
   "cell_type": "markdown",
   "id": "6006a9f8-fec9-4176-bdec-daa2d6458478",
   "metadata": {},
   "source": [
    "## Conditional Statement\n",
    "\n",
    "INDENTATION (PROPER SPACING IS NEEDED IN PYTHON TO EXCUTE STATEMENT)"
   ]
  },
  {
   "cell_type": "code",
   "execution_count": 40,
   "id": "a1a6f4b9-5e15-4f81-962d-073d363221a3",
   "metadata": {},
   "outputs": [
    {
     "name": "stdin",
     "output_type": "stream",
     "text": [
      "Enter colour Name yellow\n"
     ]
    },
    {
     "name": "stdout",
     "output_type": "stream",
     "text": [
      "Start your vechile\n"
     ]
    }
   ],
   "source": [
    "light =input(\"Enter colour Name\") \n",
    "\n",
    "if(light == \"red\"):\n",
    "    print(\"Wait untill it goes green\")\n",
    "elif(light == \"yellow\"):\n",
    "    print(\"Start your vechile\")\n",
    "elif(light == \"green\"):\n",
    "    print(\"Go man goooooo\")\n",
    "else :\n",
    "    print(\"Stand there only\")"
   ]
  },
  {
   "cell_type": "code",
   "execution_count": 49,
   "id": "f2afac85-a619-482a-87e6-86c4f073c943",
   "metadata": {},
   "outputs": [
    {
     "name": "stdin",
     "output_type": "stream",
     "text": [
      "enter your grade here: 95\n"
     ]
    },
    {
     "name": "stdout",
     "output_type": "stream",
     "text": [
      "You are the topper\n",
      "WellDone 95\n"
     ]
    }
   ],
   "source": [
    "user=int(input(\"enter your grade here:\"))\n",
    "\n",
    "if(user>=90):\n",
    "    if(user ==95):\n",
    "        print(\"You are the topper\")\n",
    "    print(\"WellDone\",user)\n",
    "elif(user>=80):\n",
    "    print(\"B\",user)    \n",
    "elif(user>=70):\n",
    "    print(\"c\",user)    \n",
    "elif(user<=60):\n",
    "    print(\"D\",user)    "
   ]
  },
  {
   "cell_type": "code",
   "execution_count": 51,
   "id": "2059b392-2dee-485f-a677-7fadad65c42d",
   "metadata": {},
   "outputs": [
    {
     "name": "stdin",
     "output_type": "stream",
     "text": [
      "enter your number here 20\n"
     ]
    },
    {
     "name": "stdout",
     "output_type": "stream",
     "text": [
      "The number is even\n"
     ]
    }
   ],
   "source": [
    "num =int(input(\"enter your number here\"))\n",
    "\n",
    "if(num%2==0):\n",
    "    print(\"The number is even\")\n",
    "else:\n",
    "    print(\"The number enter is odd\")"
   ]
  },
  {
   "cell_type": "code",
   "execution_count": 52,
   "id": "f0a87540-0727-4d82-95dd-cca2568eb0f2",
   "metadata": {},
   "outputs": [
    {
     "name": "stdin",
     "output_type": "stream",
     "text": [
      "Enter any number here ...... 49\n"
     ]
    },
    {
     "name": "stdout",
     "output_type": "stream",
     "text": [
      "This number is multiple of 7\n"
     ]
    }
   ],
   "source": [
    "num1=int(input(\"Enter any number here ......\"))\n",
    "if(num1%7==0):\n",
    "    print(\"This number is multiple of 7\")\n",
    "else:\n",
    "    print(\"This number is not multiple of 7\")"
   ]
  },
  {
   "cell_type": "code",
   "execution_count": 55,
   "id": "d802dafd-5444-4e27-94b0-93ce1828d6f4",
   "metadata": {},
   "outputs": [
    {
     "name": "stdin",
     "output_type": "stream",
     "text": [
      "Enter number here.... 20\n",
      "Enter number here.... 27\n",
      "Enter number here.... 19\n"
     ]
    },
    {
     "name": "stdout",
     "output_type": "stream",
     "text": [
      "This B is Higest value\n"
     ]
    }
   ],
   "source": [
    "a=int(input(\"Enter number here....\"))\n",
    "b=int(input(\"Enter number here....\"))\n",
    "c=int(input(\"Enter number here....\"))\n",
    "\n",
    "if(a>b and a>c):\n",
    "    print(\"This A is the Highest value\")\n",
    "elif(b>a and b>c):\n",
    "    print(\"This B is Higest value\")\n",
    "else:\n",
    "    print(\"C is the Highest value \")"
   ]
  },
  {
   "cell_type": "markdown",
   "id": "691eec21-f5db-4d0b-9f52-2ed3e6958ec4",
   "metadata": {},
   "source": [
    "## LIST AND TUPLE\n",
    "\n",
    "LIST:::\n",
    "A built in datatype used for storing set of values in it\n",
    "In this we can store values of different datatypes(int,strig,bool,etc)"
   ]
  },
  {
   "cell_type": "code",
   "execution_count": 67,
   "id": "3b3fc50a-b43c-4c84-86f7-b8f53df5c6b3",
   "metadata": {},
   "outputs": [
    {
     "name": "stdout",
     "output_type": "stream",
     "text": [
      "[2008, 2007, 2006, 2005, 2004, 2003, 2002, 2000]\n",
      "[2008, 2007, 2006, 2005, 2004, 2003, 2002, 2000]\n"
     ]
    }
   ],
   "source": [
    "year=[2000,2001,2002,2003,2004,2005,2006]\n",
    "year[1]=2007  #we can update values\n",
    "# print(year[0:4:])\n",
    "# print(year[-5:-3])\n",
    "# print(len(year))\n",
    "year.append(2008)\n",
    "year.sort(reverse=True)\n",
    "print(year)\n",
    "print(year)"
   ]
  },
  {
   "cell_type": "code",
   "execution_count": null,
   "id": "552fd39f-e71b-46a1-85da-7c6ad4b140d0",
   "metadata": {},
   "outputs": [],
   "source": []
  },
  {
   "cell_type": "code",
   "execution_count": null,
   "id": "55e3d997-76e9-4afc-8975-0ae2a0c3298c",
   "metadata": {},
   "outputs": [],
   "source": []
  },
  {
   "cell_type": "code",
   "execution_count": null,
   "id": "c281cd58-b486-4ae1-a0ec-f59eea6a0e0c",
   "metadata": {},
   "outputs": [],
   "source": []
  },
  {
   "cell_type": "code",
   "execution_count": null,
   "id": "2182f28b-aadb-4b0d-82d1-a3ebab4d6241",
   "metadata": {},
   "outputs": [],
   "source": []
  },
  {
   "cell_type": "code",
   "execution_count": null,
   "id": "cdf3189b-da87-4b14-94ba-218fd84a8782",
   "metadata": {},
   "outputs": [],
   "source": []
  },
  {
   "cell_type": "code",
   "execution_count": null,
   "id": "11a58f79-8a78-4e35-bfec-eeded316e1f1",
   "metadata": {},
   "outputs": [],
   "source": []
  },
  {
   "cell_type": "code",
   "execution_count": null,
   "id": "3c7ec2ef-c117-4732-a67d-531efa80f18e",
   "metadata": {},
   "outputs": [],
   "source": []
  },
  {
   "cell_type": "code",
   "execution_count": null,
   "id": "3afc342b-72a8-41ea-8637-115cb375a8c8",
   "metadata": {},
   "outputs": [],
   "source": []
  },
  {
   "cell_type": "code",
   "execution_count": null,
   "id": "c58c7b63-0050-4701-a678-3a7d4af6ba99",
   "metadata": {},
   "outputs": [],
   "source": []
  },
  {
   "cell_type": "code",
   "execution_count": null,
   "id": "fb58dcee-549b-4721-b574-4bd1aea4e90c",
   "metadata": {},
   "outputs": [],
   "source": []
  },
  {
   "cell_type": "code",
   "execution_count": null,
   "id": "34f8c956-f611-4915-95e8-49edaa2bc076",
   "metadata": {},
   "outputs": [],
   "source": []
  },
  {
   "cell_type": "code",
   "execution_count": null,
   "id": "ce226ee5-1bb9-4481-8630-8124608c2e29",
   "metadata": {},
   "outputs": [],
   "source": []
  },
  {
   "cell_type": "code",
   "execution_count": null,
   "id": "3d868b26-6791-42c3-874f-df13e9697dc3",
   "metadata": {},
   "outputs": [],
   "source": []
  }
 ],
 "metadata": {
  "kernelspec": {
   "display_name": "Python [conda env:base] *",
   "language": "python",
   "name": "conda-base-py"
  },
  "language_info": {
   "codemirror_mode": {
    "name": "ipython",
    "version": 3
   },
   "file_extension": ".py",
   "mimetype": "text/x-python",
   "name": "python",
   "nbconvert_exporter": "python",
   "pygments_lexer": "ipython3",
   "version": "3.13.5"
  }
 },
 "nbformat": 4,
 "nbformat_minor": 5
}
